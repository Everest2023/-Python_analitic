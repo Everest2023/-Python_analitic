{
 "cells": [
  {
   "cell_type": "markdown",
   "metadata": {},
   "source": [
    "#Задача1\n",
    "##Напишите функцию, которая на входе принпмает два соварь и возвращает  объедененный словарь. Используйте аннотирование типов\n",
    "** распаковка"
   ]
  },
  {
   "cell_type": "code",
   "execution_count": 1,
   "metadata": {},
   "outputs": [
    {
     "data": {
      "text/plain": [
       "{'One': 1, 'Two': 2, 'Three': 3, 'Fou': 1, 'Five': 2, 'Six': 3}"
      ]
     },
     "execution_count": 1,
     "metadata": {},
     "output_type": "execute_result"
    }
   ],
   "source": [
    "def join_dict(d1,в2:list):\n",
    "    return{**dict1,**dict2}\n",
    "    \n",
    "\n",
    "dict1 = {'One' : 1, 'Two' : 2, 'Three' : 3}\n",
    "dict2 = {'Fou' : 1, 'Five' : 2, 'Six' : 3}\n",
    "join_dict(dict1,dict2)"
   ]
  }
 ],
 "metadata": {
  "kernelspec": {
   "display_name": "Python 3",
   "language": "python",
   "name": "python3"
  },
  "language_info": {
   "codemirror_mode": {
    "name": "ipython",
    "version": 3
   },
   "file_extension": ".py",
   "mimetype": "text/x-python",
   "name": "python",
   "nbconvert_exporter": "python",
   "pygments_lexer": "ipython3",
   "version": "3.11.2"
  },
  "orig_nbformat": 4
 },
 "nbformat": 4,
 "nbformat_minor": 2
}
